{
  "nbformat": 4,
  "nbformat_minor": 0,
  "metadata": {
    "colab": {
      "provenance": []
    },
    "kernelspec": {
      "name": "python3",
      "display_name": "Python 3"
    },
    "language_info": {
      "name": "python"
    }
  },
  "cells": [
    {
      "cell_type": "code",
      "execution_count": null,
      "metadata": {
        "id": "LnJT7NJQ_d1K"
      },
      "outputs": [],
      "source": [
        "import pandas as pd\n",
        "from sklearn.tree import DecisionTreeClassifier\n",
        "from sklearn.model_selection import train_test_split\n",
        "from sklearn import metrics\n",
        "from sklearn.metrics import classification_report\n"
      ]
    },
    {
      "cell_type": "code",
      "source": [
        "df = pd.read_csv(\"data.csv\") #please use the data_processed file for this"
      ],
      "metadata": {
        "id": "nk1kh3tK_mDK"
      },
      "execution_count": null,
      "outputs": []
    },
    {
      "cell_type": "code",
      "source": [
        "#splitting into feature and target variable\n",
        "\n",
        "X = df[[\n",
        "    \"Application order\", \"Course\", \"Attendance\",\n",
        "    \"Previous qualification\", \"Nationality\", \"Mother's qualification\",\n",
        "    \"Father's qualification\", \"Mother's occupation\", \"Father's occupation\",\n",
        "    \"Displaced\", \"Educational special needs\", \"Debtor\", \"Tuition fees up to date\", \"Gender\",\n",
        "    \"Scholarship holder\", \"Age at enrollment\", \"International\", \"Curricular units 1st sem (credited)\",\n",
        "    \"Curricular units 1st sem (enrolled)\", \"Curricular units 1st sem (evaluations)\",\n",
        "    \"Curricular units 1st sem (approved)\", \"Curricular units 1st sem (grade)\",\n",
        "    \"Curricular units 1st sem (without evaluations)\", \"Curricular units 2nd sem (credited)\",\n",
        "    \"Curricular units 2nd sem (enrolled)\", \"Curricular units 2nd sem (evaluations)\",\n",
        "    \"Curricular units 2nd sem (approved)\", \"Curricular units 2nd sem (grade)\",\n",
        "    \"Curricular units 2nd sem (without evaluations)\", \"Unemployment rate\", \"Inflation rate\", \"GDP\"\n",
        "]]\n",
        "y = df['Target']"
      ],
      "metadata": {
        "id": "q8v0LBun_0ta"
      },
      "execution_count": null,
      "outputs": []
    },
    {
      "cell_type": "code",
      "source": [
        "# Split dataset into training set and test set\n",
        "X_train, X_test, y_train, y_test = train_test_split(X, y, test_size=0.3, random_state=1) # 70% training and 30% test\n"
      ],
      "metadata": {
        "id": "fkeuPhqkAGEZ"
      },
      "execution_count": null,
      "outputs": []
    },
    {
      "cell_type": "code",
      "source": [
        "clf = DecisionTreeClassifier()\n",
        "\n",
        "# Train Decision Tree Classifer\n",
        "clf = clf.fit(X_train,y_train)\n",
        "\n",
        "#Predict the response for test dataset\n",
        "y_pred = clf.predict(X_test)\n",
        "\n",
        "print(classification_report(y_test,y_pred))"
      ],
      "metadata": {
        "colab": {
          "base_uri": "https://localhost:8080/"
        },
        "id": "Z-1mmFsFAKhw",
        "outputId": "66213f0c-710c-48ea-cb84-c50f3b1dda92"
      },
      "execution_count": null,
      "outputs": [
        {
          "output_type": "stream",
          "name": "stdout",
          "text": [
            "              precision    recall  f1-score   support\n",
            "\n",
            "     Dropout       0.67      0.68      0.67       406\n",
            "    Enrolled       0.39      0.42      0.40       241\n",
            "    Graduate       0.79      0.76      0.77       681\n",
            "\n",
            "    accuracy                           0.67      1328\n",
            "   macro avg       0.62      0.62      0.62      1328\n",
            "weighted avg       0.68      0.67      0.68      1328\n",
            "\n"
          ]
        }
      ]
    }
  ]
}