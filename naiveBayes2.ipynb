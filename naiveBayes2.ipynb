{
  "nbformat": 4,
  "nbformat_minor": 0,
  "metadata": {
    "colab": {
      "provenance": []
    },
    "kernelspec": {
      "name": "python3",
      "display_name": "Python 3"
    },
    "language_info": {
      "name": "python"
    }
  },
  "cells": [
    {
      "cell_type": "code",
      "execution_count": null,
      "metadata": {
        "id": "M0R7-EBMnvuF"
      },
      "outputs": [],
      "source": [
        "import pandas as pd\n",
        "from sklearn.naive_bayes import GaussianNB\n",
        "from sklearn.model_selection import train_test_split\n",
        "from sklearn.metrics import classification_report\n",
        "import requests"
      ]
    },
    {
      "cell_type": "code",
      "source": [
        "data_file_url=\"https://docs.google.com/spreadsheets/d/e/2PACX-1vRxMOJNj9deCdSLIZ9BeOjXtclaOwhNT38Kfgzl6m7UF0jF2ONv_l0bLbSPDFTIknt7ZZ4xxrUELpG-/pub?output=csv\" #dataset url - published on the web for the assignment after preprocessing\n",
        "\n",
        "response = requests.get(data_file_url) #getting the data from the url\n",
        "with open('data.csv', 'wb') as file:\n",
        "    file.write(response.content) #writing the file content into a file called data.csv\n",
        "df = pd.read_csv(\"data.csv\")\n",
        "\n",
        "# Use a list to specify the column names - removed some columns based on the strong corelation\n",
        "X = df[[\"Application order\", \"Course\", \"Attendance\",\n",
        "    \"Previous qualification\", \"Nationality\", \"Mother's qualification\",\n",
        "    \"Father's qualification\", \"Mother's occupation\", \"Father's occupation\",\n",
        "    \"Displaced\", \"Educational special needs\", \"Debtor\", \"Tuition fees up to date\", \"Gender\",\n",
        "    \"Scholarship holder\", \"Age at enrollment\", \"Curricular units 1st sem (credited)\",\n",
        "    \"Curricular units 1st sem (enrolled)\", \"Curricular units 1st sem (evaluations)\",\n",
        "    \"Curricular units 1st sem (approved)\", \"Curricular units 1st sem (grade)\",\n",
        "    \"Curricular units 1st sem (without evaluations)\", \"Curricular units 2nd sem (credited)\",\n",
        "    \"Curricular units 2nd sem (enrolled)\", \"Curricular units 2nd sem (evaluations)\",\n",
        "    \"Curricular units 2nd sem (approved)\", \"Curricular units 2nd sem (grade)\", \"Unemployment rate\", \"Inflation rate\", \"GDP\"\n",
        "]]\n",
        "y = df['Target']"
      ],
      "metadata": {
        "id": "uOsinVjrn0t6"
      },
      "execution_count": null,
      "outputs": []
    },
    {
      "cell_type": "code",
      "source": [
        "X_train,X_test,y_train,y_test=train_test_split(X,y,test_size=0.3,random_state=0)\n",
        "#train model now\n",
        "classifier=GaussianNB()\n",
        "classifier.fit(X_train,y_train)\n",
        "y_pred=classifier.predict(X_test)\n",
        "print(classification_report(y_test,y_pred))"
      ],
      "metadata": {
        "colab": {
          "base_uri": "https://localhost:8080/"
        },
        "id": "UZgdIWX6n5tt",
        "outputId": "f57885dd-c806-483d-9bf4-0259b7821ace"
      },
      "execution_count": null,
      "outputs": [
        {
          "output_type": "stream",
          "name": "stdout",
          "text": [
            "              precision    recall  f1-score   support\n",
            "\n",
            "     Dropout       0.79      0.67      0.72       428\n",
            "    Enrolled       0.33      0.23      0.27       233\n",
            "    Graduate       0.73      0.87      0.79       667\n",
            "\n",
            "    accuracy                           0.69      1328\n",
            "   macro avg       0.62      0.59      0.60      1328\n",
            "weighted avg       0.68      0.69      0.68      1328\n",
            "\n"
          ]
        }
      ]
    }
  ]
}